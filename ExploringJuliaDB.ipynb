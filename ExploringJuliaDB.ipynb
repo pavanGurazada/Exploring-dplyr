{
 "cells": [
  {
   "cell_type": "code",
   "execution_count": 1,
   "metadata": {
    "collapsed": true
   },
   "outputs": [],
   "source": [
    "using JuliaDB, OnlineStats"
   ]
  },
  {
   "cell_type": "code",
   "execution_count": 2,
   "metadata": {},
   "outputs": [
    {
     "data": {
      "text/plain": [
       "MersenneTwister(UInt32[0x01332bfa], Base.dSFMT.DSFMT_state(Int32[-1772545288, 1073534108, 1077066014, 1072915095, -2146195133, 1072843413, 301764553, 1073404181, 750472136, 1073628106  …  -1491411563, 1073194977, 716119449, 1072893711, 1632331784, 758890923, 1433693833, -13012230, 382, 0]), [1.38986, 1.34047, 1.7386, 1.54643, 1.52937, 1.88903, 1.81436, 1.90836, 1.66731, 1.00123  …  1.17823, 1.58617, 1.7945, 1.5351, 1.27039, 1.16324, 1.27568, 1.00684, 1.60106, 1.96599], 382)"
      ]
     },
     "execution_count": 2,
     "metadata": {},
     "output_type": "execute_result"
    }
   ],
   "source": [
    "srand(20130810)"
   ]
  },
  {
   "cell_type": "markdown",
   "metadata": {},
   "source": [
    "## Creating and indexing"
   ]
  },
  {
   "cell_type": "code",
   "execution_count": 3,
   "metadata": {},
   "outputs": [
    {
     "data": {
      "text/plain": [
       "Table with 3 rows, 2 columns:\n",
       "a  b\n",
       "────\n",
       "1  4\n",
       "2  5\n",
       "3  6"
      ]
     },
     "execution_count": 3,
     "metadata": {},
     "output_type": "execute_result"
    }
   ],
   "source": [
    "t = table([1, 2, 3], [4, 5, 6], names = [:a, :b])"
   ]
  },
  {
   "cell_type": "code",
   "execution_count": 4,
   "metadata": {},
   "outputs": [
    {
     "data": {
      "text/plain": [
       "(a = 2, b = 5)"
      ]
     },
     "execution_count": 4,
     "metadata": {},
     "output_type": "execute_result"
    }
   ],
   "source": [
    "row = t[2]"
   ]
  },
  {
   "cell_type": "code",
   "execution_count": 5,
   "metadata": {},
   "outputs": [
    {
     "data": {
      "text/plain": [
       "(2, 5)"
      ]
     },
     "execution_count": 5,
     "metadata": {},
     "output_type": "execute_result"
    }
   ],
   "source": [
    "row.a, row.b"
   ]
  },
  {
   "cell_type": "code",
   "execution_count": 6,
   "metadata": {},
   "outputs": [
    {
     "data": {
      "text/plain": [
       "Table with 3 rows, 2 columns:\n",
       "a  b\n",
       "────\n",
       "1  4\n",
       "1  4\n",
       "2  5"
      ]
     },
     "execution_count": 6,
     "metadata": {},
     "output_type": "execute_result"
    }
   ],
   "source": [
    "t[[1, 1, 2]]"
   ]
  },
  {
   "cell_type": "code",
   "execution_count": 7,
   "metadata": {},
   "outputs": [
    {
     "data": {
      "text/plain": [
       "Table with 4 rows, 3 columns:\n",
       "\u001b[1mx  \u001b[22m\u001b[1my  \u001b[22mz\n",
       "───────\n",
       "1  3  5\n",
       "1  3  7\n",
       "2  1  6\n",
       "2  2  4"
      ]
     },
     "execution_count": 7,
     "metadata": {},
     "output_type": "execute_result"
    }
   ],
   "source": [
    "b = table([2, 1, 2, 1], [2, 3, 1, 3], [4, 5, 6, 7], names = [:x, :y, :z], pkey = [:x, :y])"
   ]
  },
  {
   "cell_type": "code",
   "execution_count": 8,
   "metadata": {},
   "outputs": [
    {
     "data": {
      "text/plain": [
       "4-element Array{Int64,1}:\n",
       " 3\n",
       " 3\n",
       " 1\n",
       " 2"
      ]
     },
     "execution_count": 8,
     "metadata": {},
     "output_type": "execute_result"
    }
   ],
   "source": [
    "select(b, 2)"
   ]
  },
  {
   "cell_type": "code",
   "execution_count": 9,
   "metadata": {},
   "outputs": [
    {
     "data": {
      "text/plain": [
       "Table with 4 rows, 2 columns:\n",
       "\u001b[1my  \u001b[22m\u001b[1mx\u001b[22m\n",
       "────\n",
       "3  1\n",
       "3  1\n",
       "1  2\n",
       "2  2"
      ]
     },
     "execution_count": 9,
     "metadata": {},
     "output_type": "execute_result"
    }
   ],
   "source": [
    "select(b, (2, 1))"
   ]
  },
  {
   "cell_type": "code",
   "execution_count": 10,
   "metadata": {},
   "outputs": [
    {
     "data": {
      "text/plain": [
       "4-element Array{Int64,1}:\n",
       " 3\n",
       " 3\n",
       " 1\n",
       " 2"
      ]
     },
     "execution_count": 10,
     "metadata": {},
     "output_type": "execute_result"
    }
   ],
   "source": [
    "select(b, :y)"
   ]
  },
  {
   "cell_type": "code",
   "execution_count": 11,
   "metadata": {},
   "outputs": [
    {
     "data": {
      "text/plain": [
       "4-element Array{Float64,1}:\n",
       " 0.333333\n",
       " 0.333333\n",
       " 2.0     \n",
       " 1.0     "
      ]
     },
     "execution_count": 11,
     "metadata": {},
     "output_type": "execute_result"
    }
   ],
   "source": [
    "select(b, (:x, :y) => p -> p.x/p.y)"
   ]
  },
  {
   "cell_type": "code",
   "execution_count": 12,
   "metadata": {},
   "outputs": [
    {
     "name": "stdout",
     "output_type": "stream",
     "text": [
      "Metadata for 1 / 1 files can be loaded from cache.\n"
     ]
    },
    {
     "data": {
      "text/plain": [
       "Table with 1631 rows, 62 columns:\n",
       "Columns:\n",
       "\u001b[1m#   \u001b[22m\u001b[1mcolname  \u001b[22m\u001b[1mtype\u001b[22m\n",
       "───────────────────\n",
       "1   No       Int64\n",
       "2   Year     Int64\n",
       "3   Comp     Int64\n",
       "4   Name     String\n",
       "5   PP       Int64\n",
       "6   DD       Int64\n",
       "7   MM       Int64\n",
       "8   FF       Int64\n",
       "9   Ch       Int64\n",
       "10  Movie    String\n",
       "11  Nom      Int64\n",
       "12  Pic      Int64\n",
       "13  Dir      Int64\n",
       "14  Aml      Int64\n",
       "15  Afl      Int64\n",
       "16  Ams      Int64\n",
       "17  Afs      Int64\n",
       "18  Scr      Int64\n",
       "19  Cin      Int64\n",
       "20  Art      Int64\n",
       "21  Cos      Int64\n",
       "22  Sco      Int64\n",
       "23  Son      Int64\n",
       "24  Edi      Int64\n",
       "25  Sou      Int64\n",
       "26  For      Int64\n",
       "27  Anf      Int64\n",
       "28  Eff      Int64\n",
       "29  Mak      Int64\n",
       "30  Dan      Int64\n",
       "31  AD       Int64\n",
       "32  PrNl     Int64\n",
       "33  PrWl     Int64\n",
       "34  PrNs     Int64\n",
       "35  PrWs     Int64\n",
       "36  PrN      Int64\n",
       "37  PrW      Int64\n",
       "38  Gdr      Int64\n",
       "39  Gmc      Int64\n",
       "40  Gd       Int64\n",
       "41  Gm1      Int64\n",
       "42  Gm2      Int64\n",
       "43  Gf1      Int64\n",
       "44  Gf2      Int64\n",
       "45  PGA      Int64\n",
       "46  DGA      Int64\n",
       "47  SAM      Int64\n",
       "48  SAF      Int64\n",
       "49  PN       Int64\n",
       "50  PD       Int64\n",
       "51  DN       Int64\n",
       "52  DP       Int64\n",
       "53  DPrN     Int64\n",
       "54  DPrW     Int64\n",
       "55  MN       Int64\n",
       "56  MP       Int64\n",
       "57  MPrN     Int64\n",
       "58  MPrW     Int64\n",
       "59  FN       Int64\n",
       "60  FP       Int64\n",
       "61  FPrN     Int64\n",
       "62  FPrW     Int64"
      ]
     },
     "execution_count": 12,
     "metadata": {},
     "output_type": "execute_result"
    }
   ],
   "source": [
    "oscars = loadtable(\"oscars.csv\")"
   ]
  },
  {
   "cell_type": "code",
   "execution_count": 13,
   "metadata": {},
   "outputs": [
    {
     "data": {
      "text/plain": [
       "Table with 20 rows, 62 columns:\n",
       "Columns:\n",
       "\u001b[1m#   \u001b[22m\u001b[1mcolname  \u001b[22m\u001b[1mtype\u001b[22m\n",
       "───────────────────\n",
       "1   No       Int64\n",
       "2   Year     Int64\n",
       "3   Comp     Int64\n",
       "4   Name     String\n",
       "5   PP       Int64\n",
       "6   DD       Int64\n",
       "7   MM       Int64\n",
       "8   FF       Int64\n",
       "9   Ch       Int64\n",
       "10  Movie    String\n",
       "11  Nom      Int64\n",
       "12  Pic      Int64\n",
       "13  Dir      Int64\n",
       "14  Aml      Int64\n",
       "15  Afl      Int64\n",
       "16  Ams      Int64\n",
       "17  Afs      Int64\n",
       "18  Scr      Int64\n",
       "19  Cin      Int64\n",
       "20  Art      Int64\n",
       "21  Cos      Int64\n",
       "22  Sco      Int64\n",
       "23  Son      Int64\n",
       "24  Edi      Int64\n",
       "25  Sou      Int64\n",
       "26  For      Int64\n",
       "27  Anf      Int64\n",
       "28  Eff      Int64\n",
       "29  Mak      Int64\n",
       "30  Dan      Int64\n",
       "31  AD       Int64\n",
       "32  PrNl     Int64\n",
       "33  PrWl     Int64\n",
       "34  PrNs     Int64\n",
       "35  PrWs     Int64\n",
       "36  PrN      Int64\n",
       "37  PrW      Int64\n",
       "38  Gdr      Int64\n",
       "39  Gmc      Int64\n",
       "40  Gd       Int64\n",
       "41  Gm1      Int64\n",
       "42  Gm2      Int64\n",
       "43  Gf1      Int64\n",
       "44  Gf2      Int64\n",
       "45  PGA      Int64\n",
       "46  DGA      Int64\n",
       "47  SAM      Int64\n",
       "48  SAF      Int64\n",
       "49  PN       Int64\n",
       "50  PD       Int64\n",
       "51  DN       Int64\n",
       "52  DP       Int64\n",
       "53  DPrN     Int64\n",
       "54  DPrW     Int64\n",
       "55  MN       Int64\n",
       "56  MP       Int64\n",
       "57  MPrN     Int64\n",
       "58  MPrW     Int64\n",
       "59  FN       Int64\n",
       "60  FP       Int64\n",
       "61  FPrN     Int64\n",
       "62  FPrW     Int64"
      ]
     },
     "execution_count": 13,
     "metadata": {},
     "output_type": "execute_result"
    }
   ],
   "source": [
    "filter(x -> x == 2005, oscars; select = :Year)"
   ]
  },
  {
   "cell_type": "code",
   "execution_count": null,
   "metadata": {
    "collapsed": true
   },
   "outputs": [],
   "source": []
  }
 ],
 "metadata": {
  "kernelspec": {
   "display_name": "Julia 0.6.2",
   "language": "julia",
   "name": "julia-0.6"
  },
  "language_info": {
   "file_extension": ".jl",
   "mimetype": "application/julia",
   "name": "julia",
   "version": "0.6.2"
  }
 },
 "nbformat": 4,
 "nbformat_minor": 2
}
